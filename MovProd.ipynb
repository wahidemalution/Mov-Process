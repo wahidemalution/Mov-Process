{
  "nbformat": 4,
  "nbformat_minor": 0,
  "metadata": {
    "colab": {
      "provenance": [],
      "include_colab_link": true
    },
    "kernelspec": {
      "name": "python3",
      "display_name": "Python 3"
    },
    "language_info": {
      "name": "python"
    }
  },
  "cells": [
    {
      "cell_type": "markdown",
      "metadata": {
        "id": "view-in-github",
        "colab_type": "text"
      },
      "source": [
        "<a href=\"https://colab.research.google.com/github/wahidemalution/Mov-Process/blob/main/MovProd.ipynb\" target=\"_parent\"><img src=\"https://colab.research.google.com/assets/colab-badge.svg\" alt=\"Open In Colab\"/></a>"
      ]
    },
    {
      "cell_type": "markdown",
      "source": [
        "<center><h1><b>Mount Google Drive</b></h1></center>"
      ],
      "metadata": {
        "id": "A5KlyQb0HB7o"
      }
    },
    {
      "cell_type": "code",
      "source": [
        "#@title Mount Google Drive \n",
        "from google.colab import drive\n",
        "drive.mount('/content/drive')"
      ],
      "metadata": {
        "id": "3WN8_4pwOjG6",
        "cellView": "form"
      },
      "execution_count": null,
      "outputs": []
    },
    {
      "cell_type": "markdown",
      "source": [
        "<center><h1><b>Mount Another Google Drive Account</b></h1></center>"
      ],
      "metadata": {
        "id": "YcA8qvR7Lk6R"
      }
    },
    {
      "cell_type": "code",
      "source": [
        "!sudo add-apt-repository -y ppa:alessandro-strada/ppa 2>&1 > /dev/null\n",
        "!sudo apt-get update -qq 2>&1 > /dev/null\n",
        "!sudo apt -y install -qq google-drive-ocamlfuse 2>&1 > /dev/null\n",
        "!google-drive-ocamlfuse"
      ],
      "metadata": {
        "id": "Ov_SLXv3LGzs"
      },
      "execution_count": null,
      "outputs": []
    },
    {
      "cell_type": "markdown",
      "source": [
        "After running code below you will get error like this :\n",
        "\n",
        "Failure(\"Error opening URL:https://accounts.google.com/o/oauth2/auth?client_id=... \")\n",
        "\n",
        "Click URL and Authenticate you account."
      ],
      "metadata": {
        "id": "_0dildGALslu"
      }
    },
    {
      "cell_type": "code",
      "source": [
        "!sudo apt-get install -qq w3m\n",
        "!xdg-settings set default-web-browser w3m.desktop\n",
        "%cd /content\n",
        "!mkdir drive\n",
        "%cd drive\n",
        "!mkdir MyDrive\n",
        "%cd ..\n",
        "%cd ..\n",
        "!google-drive-ocamlfuse /content/drive/MyDrive"
      ],
      "metadata": {
        "id": "sd_5zB5OLULj"
      },
      "execution_count": null,
      "outputs": []
    },
    {
      "cell_type": "markdown",
      "source": [
        "<center><h1><b>Mount One Drive (rClone)</b></h1></center>"
      ],
      "metadata": {
        "id": "ibzClihVBm39"
      }
    },
    {
      "cell_type": "code",
      "source": [
        "#@title Install rClone\n",
        "\n",
        "!curl https://rclone.org/install.sh | sudo bash"
      ],
      "metadata": {
        "cellView": "form",
        "id": "BnunJ0v5Bqn6"
      },
      "execution_count": null,
      "outputs": []
    },
    {
      "cell_type": "markdown",
      "source": [
        "Run this command in your terminal to generate One Drive Token\n",
        "\n",
        "```bash\n",
        "rclone authorize \"onedrive\"\n",
        "```"
      ],
      "metadata": {
        "id": "8xvtAU4IB3sg"
      }
    },
    {
      "cell_type": "code",
      "source": [
        "#@title Config rClone One Drive\n",
        "\n",
        "!rclone config"
      ],
      "metadata": {
        "cellView": "form",
        "id": "5vllj3NOB-BE"
      },
      "execution_count": null,
      "outputs": []
    },
    {
      "cell_type": "code",
      "source": [
        "#@title Mount OneDrive to /content/onedrive/ directory\n",
        "\n",
        "import os, sys, re\n",
        "rclone_config_name = \"odrive\" #@param {type:\"string\"}\n",
        "\n",
        "os.environ['rcloneconfigname'] = rclone_config_name\n",
        "\n",
        "!sudo mkdir /content/onedrive\n",
        "!nohup rclone --vfs-cache-mode full mount \"$rcloneconfigname\": /content/onedrive &"
      ],
      "metadata": {
        "cellView": "form",
        "id": "lt1SlwFRCMU3"
      },
      "execution_count": null,
      "outputs": []
    },
    {
      "cell_type": "markdown",
      "source": [
        "<center><h1><b>FFMPEG</b></h1></center>"
      ],
      "metadata": {
        "id": "F3zUQDMBgEVf"
      }
    },
    {
      "cell_type": "code",
      "source": [
        "#@title Install FFMPEG \n",
        "\n",
        "!git clone https://github.com/XniceCraft/ffmpeg-colab.git\n",
        "!chmod +x ./ffmpeg-colab/install\n",
        "!./ffmpeg-colab/install\n",
        "!rm -fr /content/ffmpeg-colab\n",
        "!ffmpeg -version"
      ],
      "metadata": {
        "cellView": "form",
        "id": "5JLX24Q1kSIi"
      },
      "execution_count": null,
      "outputs": []
    },
    {
      "cell_type": "code",
      "source": [
        "#@title Convert MKV to MP4 Input from Form, and automatic Output to Movie Dir (Create Movie Dir First on MyDrive)\n",
        "\n",
        "import os, sys, re\n",
        "\n",
        "video_file_path = \"/content/drive/MyDrive/video.mkv\" #@param {type:\"string\"}\n",
        "output_name_video = \"Output Video Name\" #@param {type:\"string\"}\n",
        "\n",
        "delsplit = re.search(\"\\/(?:.(?!\\/))+$\", video_file_path)\n",
        "filename = re.sub(\"^[\\/]\", \"\", delsplit.group(0))\n",
        "filename_raw = re.sub(\".{4}$\", \"\", filename)\n",
        "file_extension = re.search(\".{3}$\", filename)\n",
        "file_extension_raw = file_extension.group(0)\n",
        "\n",
        "os.environ['inputFile'] = video_file_path\n",
        "os.environ['outputPath'] = \"/content/drive/MyDrive/Movie\"\n",
        "os.environ['fileName'] = output_name_video\n",
        "os.environ['fileExtension'] = file_extension_raw\n",
        "\n",
        "! ffmpeg -i \"$inputFile\" -codec copy -crf 27 -preset veryslow \"$outputPath\"/\"$fileName\"-[INFOKAN21].mp4"
      ],
      "metadata": {
        "id": "GRMsO1cK9HFl",
        "cellView": "form"
      },
      "execution_count": null,
      "outputs": []
    },
    {
      "cell_type": "code",
      "source": [
        "#@title Remove Subtitle MKV\n",
        "import os, sys, re\n",
        "\n",
        "video_file_path = \"/content/drive/MyDrive/video.mkv\" #@param {type:\"string\"}\n",
        "output_name_video = \"Output Video Name\" #@param {type:\"string\"}\n",
        "reso = \"720\" #@param [\"360\", \"480\", \"720\", \"1080\"]\n",
        "\n",
        "os.environ['inputFile'] = video_file_path\n",
        "os.environ['outputPath'] = \"/content/drive/MyDrive/MKV\"\n",
        "os.environ['fileName'] = output_name_video\n",
        "os.environ['reso'] = reso\n",
        "\n",
        "! ffmpeg -i \"$inputFile\" -sn -c copy \"$outputPath\"/\"$fileName\"-\"$reso\"-[INFOKAN21].mkv"
      ],
      "metadata": {
        "cellView": "form",
        "id": "uzxBKAMInRWY"
      },
      "execution_count": null,
      "outputs": []
    },
    {
      "cell_type": "code",
      "source": [
        "#@title Merge Subtitle MKV (Create subbed Dir First on MyDrive)\n",
        "\n",
        "import os\n",
        "\n",
        "video_file_path = \"/content/drive/MyDrive/video.mkv\" #@param {type:\"string\"}\n",
        "subs_file_path = \"/content/drive/MyDrive/sub.srt\" #@param {type:\"string\"}\n",
        "output_name_video = \"Top Gun Maverick 2022-BLURAY\" #@param {type:\"string\"}\n",
        "reso = \"720\" #@param [\"360\", \"480\", \"720\", \"1080\"]\n",
        "\n",
        "os.environ['inputFile'] = video_file_path\n",
        "os.environ['inputSubsFile'] = subs_file_path\n",
        "os.environ['outputPath'] = \"/content/drive/MyDrive/subbed/\"\n",
        "os.environ['fileName'] = output_name_video\n",
        "os.environ['reso'] = reso\n",
        "\n",
        "\n",
        "!ffmpeg -hide_banner -i \"$inputFile\" -i \"$inputSubsFile\" -metadata title=\"$fileName\"-[INFOKAN21] -metadata:s:v:0  title=\"$fileName\"-[INFOKAN21] -metadata:s:a:0  title=\"$fileName\"-[INFOKAN21] -metadata:s:a:1 title=\"$fileName\"-[INFOKAN21] -c:v copy -c:a copy -disposition:s:s:0 forced \"$outputPath\"/\"$fileName\"-\"$reso\"-[INFOKAN21]-SubIndonesia.mkv"
      ],
      "metadata": {
        "cellView": "form",
        "id": "57rUh3EYPi9N"
      },
      "execution_count": null,
      "outputs": []
    },
    {
      "cell_type": "code",
      "source": [
        "#@title Merge Subtitle MP4 (Create subbed Dir First on MyDrive)\n",
        "\n",
        "import os\n",
        "\n",
        "video_file_path = \"/content/drive/MyDrive/video.mkv\" #@param {type:\"string\"}\n",
        "subs_file_path = \"/content/drive/MyDrive/sub.srt\" #@param {type:\"string\"}\n",
        "output_name_video = \"Top Gun Maverick 2022-BLURAY\" #@param {type:\"string\"}\n",
        "\n",
        "os.environ['inputFile'] = video_file_path\n",
        "os.environ['inputSubsFile'] = subs_file_path\n",
        "os.environ['outputPath'] = \"/content/drive/MyDrive/subbed/\"\n",
        "os.environ['fileName'] = output_name_video\n",
        "\n",
        "\n",
        "! ffmpeg -i \"$inputFile\" -i \"$inputSubsFile\" -c copy -c:s mov_text -metadata:s:s:0 title=\"Indonesia\" \"$outputPath\"/\"$fileName\"-[INFOKAN21]-SubIndonesia.mp4"
      ],
      "metadata": {
        "cellView": "form",
        "id": "qiBPOCGBnvUh"
      },
      "execution_count": null,
      "outputs": []
    },
    {
      "cell_type": "markdown",
      "source": [
        "<center><h1><b>Extract and Compress</b></h1></center>"
      ],
      "metadata": {
        "id": "75DnDpBCGfwH"
      }
    },
    {
      "cell_type": "markdown",
      "source": [
        "<p><b>Before Extract or Compress file, Mount Google Drive First on First Cell"
      ],
      "metadata": {
        "id": "CC48v1RkGx_B"
      }
    },
    {
      "cell_type": "code",
      "source": [
        "#@title Extract Zip\n",
        "\n",
        "import os\n",
        "\n",
        "compress_file = \"/content/drive/MyDrive/file.zip\" #@param {type:\"string\"}\n",
        "output_folder = \"Output folder where file will be extracted\" #@param {type:\"string\"}\n",
        "\n",
        "os.environ['inputFile'] = compress_file\n",
        "os.environ['outputPath'] = output_folder\n",
        "\n",
        "! unzip \"$inputFile\" -d \"$outputPath\""
      ],
      "metadata": {
        "cellView": "form",
        "id": "ewUEeTX1Hhqf"
      },
      "execution_count": null,
      "outputs": []
    },
    {
      "cell_type": "code",
      "source": [
        "#@title Extract RAR (Without Password)\n",
        "\n",
        "import os\n",
        "\n",
        "compress_file = \"/content/drive/MyDrive/file.rar\" #@param {type:\"string\"}\n",
        "output_folder = \"Output folder where file will be extracted\" #@param {type:\"string\"}\n",
        "\n",
        "os.environ['inputFile'] = compress_file\n",
        "os.environ['outputPath'] = output_folder\n",
        "\n",
        "!unrar x \"$inputFile\" \"$outputPath\""
      ],
      "metadata": {
        "cellView": "form",
        "id": "y3_lD9OnJbgG"
      },
      "execution_count": null,
      "outputs": []
    },
    {
      "cell_type": "code",
      "source": [
        "#@title ZIP file/folder\n",
        "\n",
        "import os\n",
        "\n",
        "file_folder_name = \"/content/drive/MyDrive/file.zip\" #@param {type:\"string\"}\n",
        "output_file_name = \"File-[INFOKAN21]\" #@param {type:\"string\"}\n",
        "\n",
        "os.environ['inputFile'] = file_folder_name\n",
        "os.environ['outputFile'] = output_file_name\n",
        "\n",
        "!zip /content/drive/MyDrive/\"$outputFile\".zip \"$inputFile\""
      ],
      "metadata": {
        "cellView": "form",
        "id": "3SCEJ5k2_kV4"
      },
      "execution_count": null,
      "outputs": []
    },
    {
      "cell_type": "markdown",
      "source": [
        "<center><h1><b>Google Drive To Mega</b></h1></center>"
      ],
      "metadata": {
        "id": "ZRlRSRiJ-ktP"
      }
    },
    {
      "cell_type": "code",
      "source": [
        "# @title Input your Mega Id and Password\n",
        "\n",
        "# https://github.com/surajbahadur591\n",
        "\n",
        "from functools import wraps\n",
        "import errno\n",
        "import os\n",
        "import signal\n",
        "import subprocess\n",
        "import shlex\n",
        "\n",
        "\n",
        "class TimeoutError(Exception):\n",
        "    pass\n",
        "\n",
        "\n",
        "def timeout(seconds=10, error_message=os.strerror(errno.ETIME)):\n",
        "    def decorator(func):\n",
        "        def _handle_timeout(signum, frame):\n",
        "            raise TimeoutError(error_message)\n",
        "\n",
        "        def wrapper(*args, **kwargs):\n",
        "            signal.signal(signal.SIGALRM, _handle_timeout)\n",
        "            signal.alarm(seconds)\n",
        "            try:\n",
        "                result = func(*args, **kwargs)\n",
        "            finally:\n",
        "                signal.alarm(0)\n",
        "            return result\n",
        "\n",
        "        return wraps(func)(wrapper)\n",
        "\n",
        "    return decorator\n",
        "\n",
        "\n",
        "if not os.path.exists(\"/root/.ipython/ocr.py\"):\n",
        "    from subprocess import run\n",
        "    from shlex import split\n",
        "\n",
        "    shellCmd = \"wget -qq https://raw.githubusercontent.com/biplobsd/OneClickRun/master/res/ocr.py \\\n",
        "                    -O /root/.ipython/ocr.py\"\n",
        "    run(split(shellCmd))\n",
        "from ocr import runSh\n",
        "\n",
        "@timeout(10)\n",
        "def runShT(args):\n",
        "    return runSh(args, output=True)\n",
        "\n",
        "\n",
        "# MEGAcmd installing\n",
        "if not os.path.exists(\"/usr/bin/mega-cmd\"):\n",
        "    print(\"Installing MEGA ...\")\n",
        "    runSh('sudo apt-get -y update')\n",
        "    runSh('sudo apt-get -y install libmms0 libc-ares2 libc6 libcrypto++6 libgcc1 libmediainfo0v5 libpcre3 libpcrecpp0v5 libssl1.1 libstdc++6 libzen0v5 zlib1g apt-transport-https')\n",
        "    runSh('sudo curl -sL -o /var/cache/apt/archives/MEGAcmd.deb https://mega.nz/linux/MEGAsync/Debian_9.0/amd64/megacmd-Debian_9.0_amd64.deb', output=True)\n",
        "    runSh('sudo dpkg -i /var/cache/apt/archives/MEGAcmd.deb', output=True)\n",
        "    print(\"MEGA is installed.\")\n",
        "else:\n",
        "    !pkill mega-cmd\n",
        "\n",
        "# INPUT YOUR MEGA ID\n",
        "\n",
        "USERNAME = \"Email Login Mega\"  # @param {type:\"string\"}\n",
        "PASSWORD = \"Password Mega\"  # @param {type:\"string\"}\n",
        "if not (USERNAME == \"\" or PASSWORD == \"\"):\n",
        "    try:\n",
        "        runShT(f\"mega-login {USERNAME} {PASSWORD}\")\n",
        "    except TimeoutError:\n",
        "        runSh('mega-whoami', output=True)\n",
        "else:\n",
        "    print(\"Please Input your Mega IDs.\")"
      ],
      "metadata": {
        "cellView": "form",
        "id": "PmUjN0vN-oH5"
      },
      "execution_count": null,
      "outputs": []
    },
    {
      "cell_type": "code",
      "source": [
        "import time\n",
        "import subprocess\n",
        "import contextlib\n",
        "from IPython.display import clear_output\n",
        "# @title <center><h2>TRANSFER NOW</h2></center><br>\n",
        "# TRANSFER NOW\n",
        "\n",
        "PATH_TO_FILE = \"/content/drive/MyDrive/Video.mp4\"  # @param {type:\"string\"}\n",
        "# Unix, Windows and old Macintosh end-of-line\n",
        "newlines = ['\\n', '\\r\\n', '\\r']\n",
        "\n",
        "\n",
        "def unbuffered(proc, stream='stdout'):\n",
        "    stream = getattr(proc, stream)\n",
        "    with contextlib.closing(stream):\n",
        "        while True:\n",
        "            out = []\n",
        "            last = stream.read(1)\n",
        "            # Don't loop forever\n",
        "            if last == '' and proc.poll() is not None:\n",
        "                break\n",
        "            while last not in newlines:\n",
        "                # Don't loop forever\n",
        "                if last == '' and proc.poll() is not None:\n",
        "                    break\n",
        "                out.append(last)\n",
        "                last = stream.read(1)\n",
        "            out = ''.join(out)\n",
        "            yield out\n",
        "\n",
        "\n",
        "def transfare():\n",
        "    cmd = ['mega-put', PATH_TO_FILE]\n",
        "    proc = subprocess.Popen(\n",
        "        cmd,\n",
        "        stdout=subprocess.PIPE,\n",
        "        stderr=subprocess.STDOUT,\n",
        "        # Make all end-of-lines '\\n'\n",
        "        universal_newlines=True,\n",
        "    )\n",
        "    for line in unbuffered(proc):\n",
        "        clear_output(wait=True)\n",
        "        print(line)\n",
        "\n",
        "try:\n",
        "    transfare()\n",
        "except FileNotFoundError:\n",
        "    print(\"Login your account!\")"
      ],
      "metadata": {
        "cellView": "form",
        "id": "TylF2YLQ-9gl"
      },
      "execution_count": null,
      "outputs": []
    },
    {
      "cell_type": "code",
      "source": [
        "# @title Logout Mega Account\n",
        "runSh('mega-logout [--keep-session]', output=True)"
      ],
      "metadata": {
        "cellView": "form",
        "id": "ai1XRg5R-jez"
      },
      "execution_count": null,
      "outputs": []
    },
    {
      "cell_type": "code",
      "source": [
        "# @title Check Logged In Account\n",
        "runSh('mega-whoami', output=True)"
      ],
      "metadata": {
        "cellView": "form",
        "id": "aUSUnJSN-sIa"
      },
      "execution_count": null,
      "outputs": []
    },
    {
      "cell_type": "markdown",
      "source": [
        "<center><h1><b>Mega to Google Drive</b></h1></center>"
      ],
      "metadata": {
        "id": "HU0ktAtB57zi"
      }
    },
    {
      "cell_type": "code",
      "source": [
        "import sys, os, urllib.request\n",
        "import time\n",
        "import subprocess\n",
        "import contextlib\n",
        "from IPython.display import clear_output\n",
        "\n",
        "HOME = os.path.expanduser(\"~\")\n",
        "if not os.path.exists(f\"{HOME}/.ipython/ocr.py\"):\n",
        "    hCode = \"https://raw.githubusercontent.com/biplobsd/\" \\\n",
        "                \"OneClickRun/master/res/ocr.py\"\n",
        "    urllib.request.urlretrieve(hCode, f\"{HOME}/.ipython/ocr.py\")\n",
        "\n",
        "from ocr import (\n",
        "    runSh,\n",
        "    loadingAn,\n",
        ")\n",
        "#@title Download Mega to Google Drive\n",
        "URL = \"URL Mega\" #@param {type:\"string\"}\n",
        "OUTPUT_PATH = \"Output Path\" #@param {type:\"string\"}\n",
        "\n",
        "if not OUTPUT_PATH:\n",
        "  os.makedirs(\"downloads\", exist_ok=True)\n",
        "  OUTPUT_PATH = \"downloads\"\n",
        "# MEGAcmd installing\n",
        "if not os.path.exists(\"/usr/bin/mega-cmd\"):\n",
        "    loadingAn()\n",
        "    print(\"Installing MEGA ...\")\n",
        "    runSh('sudo apt-get -y update')\n",
        "    runSh('sudo apt-get -y install libmms0 libc-ares2 libc6 libcrypto++6 libgcc1 libmediainfo0v5 libpcre3 libpcrecpp0v5 libssl1.1 libstdc++6 libzen0v5 zlib1g apt-transport-https')\n",
        "    runSh('sudo curl -sL -o /var/cache/apt/archives/MEGAcmd.deb https://mega.nz/linux/MEGAsync/Debian_9.0/amd64/megacmd-Debian_9.0_amd64.deb', output=True)\n",
        "    runSh('sudo dpkg -i /var/cache/apt/archives/MEGAcmd.deb', output=True)\n",
        "    print(\"MEGA is installed.\")\n",
        "    clear_output()\n",
        "\n",
        "# Unix, Windows and old Macintosh end-of-line\n",
        "newlines = ['\\n', '\\r\\n', '\\r']\n",
        "\n",
        "def unbuffered(proc, stream='stdout'):\n",
        "    stream = getattr(proc, stream)\n",
        "    with contextlib.closing(stream):\n",
        "        while True:\n",
        "            out = []\n",
        "            last = stream.read(1)\n",
        "            # Don't loop forever\n",
        "            if last == '' and proc.poll() is not None:\n",
        "                break\n",
        "            while last not in newlines:\n",
        "                # Don't loop forever\n",
        "                if last == '' and proc.poll() is not None:\n",
        "                    break\n",
        "                out.append(last)\n",
        "                last = stream.read(1)\n",
        "            out = ''.join(out)\n",
        "            yield out\n",
        "\n",
        "\n",
        "def transfare():\n",
        "    import codecs\n",
        "    decoder = codecs.getincrementaldecoder(\"UTF-8\")()\n",
        "    cmd = [\"mega-get\", URL, OUTPUT_PATH]\n",
        "    proc = subprocess.Popen(\n",
        "        cmd,\n",
        "        stdout=subprocess.PIPE,\n",
        "        stderr=subprocess.STDOUT,\n",
        "        # Make all end-of-lines '\\n'\n",
        "        universal_newlines=True,\n",
        "    )\n",
        "    for line in unbuffered(proc):\n",
        "        print(line)\n",
        "        \n",
        "\n",
        "\n",
        "transfare()"
      ],
      "metadata": {
        "cellView": "form",
        "id": "44E15weC5rxa"
      },
      "execution_count": null,
      "outputs": []
    },
    {
      "cell_type": "markdown",
      "source": [
        "<center><h1><b>ADDITIONAL CELL</b></h1></center>"
      ],
      "metadata": {
        "id": "tdM5N7phgOrO"
      }
    },
    {
      "cell_type": "code",
      "source": [
        "#@title Copy File\n",
        "\n",
        "import os\n",
        "\n",
        "source_file = \"/content/drive/MyDrive/file.mkv\" #@param {type:\"string\"}\n",
        "source_file1 = \"/content/drive/MyDrive/file.mkv\" #@param {type:\"string\"}\n",
        "output_folder = \"Output Folder\" #@param {type:\"string\"}\n",
        "\n",
        "os.environ['sourceFile'] = source_file\n",
        "os.environ['sourceFile1'] = source_file1\n",
        "os.environ['outputPath'] = output_folder\n",
        "\n",
        "!cp \"$sourceFile\" \"$sourceFile1\" \"$outputPath\""
      ],
      "metadata": {
        "cellView": "form",
        "id": "-QB0Kt9lS5-0"
      },
      "execution_count": null,
      "outputs": []
    },
    {
      "cell_type": "code",
      "source": [
        "#@title Install jq for Anonfiles and Hellabyte\n",
        "!sudo apt-get install jq"
      ],
      "metadata": {
        "cellView": "form",
        "id": "lNwPNjZPON76"
      },
      "execution_count": null,
      "outputs": []
    },
    {
      "cell_type": "code",
      "source": [
        "#@title Anonfiles Upload\n",
        "\n",
        "import os\n",
        "\n",
        "source_file = \"/content/drive/MyDrive/file.mkv\" #@param {type:\"string\"}\n",
        "source_file1 = \"/content/drive/MyDrive/file.mkv\" #@param {type:\"string\"}\n",
        "\n",
        "\n",
        "os.environ['sourceFile'] = source_file\n",
        "os.environ['sourceFile1'] = source_file1\n",
        "\n",
        "\n",
        "!curl -# https://api.anonfiles.com/upload -F \"file=@\"$sourceFile\"\" | jq\n",
        "!curl -# https://api.anonfiles.com/upload -F \"file=@\"$sourceFile1\"\" | jq"
      ],
      "metadata": {
        "cellView": "form",
        "id": "ZNi4yJ7QpiYM"
      },
      "execution_count": null,
      "outputs": []
    },
    {
      "cell_type": "code",
      "source": [
        "#@title Hellabyte Upload\n",
        "\n",
        "import os\n",
        "\n",
        "source_file = \"/content/drive/MyDrive/file.mkv\" #@param {type:\"string\"}\n",
        "source_file1 = \"/content/drive/MyDrive/file.mkv\" #@param {type:\"string\"}\n",
        "\n",
        "\n",
        "os.environ['sourceFile'] = source_file\n",
        "os.environ['sourceFile1'] = source_file1\n",
        "\n",
        "!curl -# -F \"file=@\"$sourceFile\"\" up.hellabyte.cloud | jq\n",
        "!curl -# -F \"file=@\"$sourceFile1\"\" up.hellabyte.cloud | jq"
      ],
      "metadata": {
        "cellView": "form",
        "id": "Q1u-1Y8E3FmN"
      },
      "execution_count": null,
      "outputs": []
    },
    {
      "cell_type": "code",
      "source": [
        "#@title Generate URL Upload and Token Krakenfiles\n",
        "\n",
        "!curl -# https://krakenfiles.com/api/server/available -H \"Accept: application/json\" | jq"
      ],
      "metadata": {
        "cellView": "form",
        "id": "XzG2-B7qHBgL"
      },
      "execution_count": null,
      "outputs": []
    },
    {
      "cell_type": "code",
      "source": [
        "#@title KrakenFiles Upload\n",
        "\n",
        "import os\n",
        "\n",
        "url_server = \"URL Upload Server\" #@param {type:\"string\"}\n",
        "upload_server_token = \"Upload Token\" #@param {type:\"string\"}\n",
        "auth_token = \"Api Key Account from https://krakenfiles.com/profile/api-access\" #@param {type:\"string\"}\n",
        "source_file = \"/content/drive/MyDrive/file.mkv\" #@param {type:\"string\"}\n",
        "\n",
        "os.environ['URLServer'] = url_server\n",
        "os.environ['authToken'] = auth_token\n",
        "os.environ['UPservToken'] = upload_server_token\n",
        "os.environ['sourceFile'] = source_file\n",
        "\n",
        "\n",
        "\n",
        "!curl -# X POST \"$URLServer\" -H \"X-AUTH-TOKEN: \"$authToken\"\" -F \"serverAccessToken=\"$UPservToken\"\" -F \"file=@\"$sourceFile\"\" | jq"
      ],
      "metadata": {
        "cellView": "form",
        "id": "ftqtNtZXHTzq"
      },
      "execution_count": null,
      "outputs": []
    },
    {
      "cell_type": "markdown",
      "source": [
        "# Colab Keep Alive Console Script\n",
        "\n",
        "<p><font size=2px ><font color=\"red\"> Tip - Set a javascript interval to click on the connect button every 60 seconds. Open developer-settings (in your web-browser) with Ctrl+Shift+I then click on console tab and type this on the console prompt. (for mac press Option+Command+I)</font></p><b>Copy script in hidden cell and paste at your browser console !!! DO NOT CLOSE YOUR BROWSER IN ORDER TO STILL RUNNING SCRIPT</b>\n"
      ],
      "metadata": {
        "id": "SgkYRA1EiujH"
      }
    },
    {
      "cell_type": "markdown",
      "source": [
        "<code>function ClickConnect(){\n",
        "console.log(\"Working\"); \n",
        "document.querySelector(\"colab-connect-button\").click() \n",
        "}setInterval(ClickConnect,6000)</code>"
      ],
      "metadata": {
        "id": "rYSyOdJEjE1M"
      }
    },
    {
      "cell_type": "code",
      "source": [
        "function ConnectButton(){\n",
        "    console.log(\"Connect pushed\"); \n",
        "    document.querySelector(\"#top-toolbar > colab-connect-button\").shadowRoot.querySelector(\"#connect\").click() \n",
        "}\n",
        "setInterval(ConnectButton,60000);"
      ],
      "metadata": {
        "id": "IwXw3wWH2Ud_"
      },
      "execution_count": null,
      "outputs": []
    },
    {
      "cell_type": "code",
      "source": [
        "#@title Install MKVTOOLNIX\n",
        "\n",
        "import os\n",
        "from IPython.display import clear_output\n",
        "\n",
        "Version = \"70.0.0\" #@param {type:\"string\"}\n",
        "downloadLink = f'https://mkvtoolnix.download/appimage/MKVToolNix_GUI-{Version}-x86_64.AppImage'\n",
        "\n",
        "mkvpropedit = '/usr/local/bin/mkvpropedit'\n",
        "mkvmerge = '/usr/local/bin/mkvmerge'\n",
        "mkvextract = '/usr/local/bin/mkvextract'\n",
        "mkvinfo = '/usr/local/bin/mkvinfo'\n",
        "\n",
        "if os.path.exists(mkvpropedit) is True:\n",
        "    !rm {mkvpropedit}\n",
        "if os.path.exists(mkvmerge) is True:\n",
        "    !rm {mkvmerge}\n",
        "if os.path.exists(mkvextract) is True:\n",
        "    !rm {mkvextract}\n",
        "if os.path.exists(mkvinfo) is True:\n",
        "    !rm {mkvinfo}\n",
        "\n",
        "!sudo curl -L {downloadLink} -o /usr/local/bin/MKVToolNix_GUI.AppImage\n",
        "!sudo chmod u+rx /usr/local/bin/MKVToolNix_GUI.AppImage\n",
        "!sudo ln -s /usr/local/bin/MKVToolNix_GUI.AppImage /usr/local/bin/mkvpropedit\n",
        "!sudo chmod a+rx /usr/local/bin/mkvpropedit\n",
        "!sudo ln -s /usr/local/bin/MKVToolNix_GUI.AppImage /usr/local/bin/mkvmerge\n",
        "!sudo chmod a+rx /usr/local/bin/mkvmerge\n",
        "!sudo ln -s /usr/local/bin/MKVToolNix_GUI.AppImage /usr/local/bin/mkvextract\n",
        "!sudo chmod a+rx /usr/local/bin/mkvextract\n",
        "!sudo ln -s /usr/local/bin/MKVToolNix_GUI.AppImage /usr/local/bin/mkvinfo\n",
        "!sudo chmod a+rx /usr/local/bin/mkvinfo\n",
        "\n",
        "clear_output()\n",
        "print(\"Successfully Installed.\")"
      ],
      "metadata": {
        "cellView": "form",
        "id": "6ttPL3ffgLwk"
      },
      "execution_count": null,
      "outputs": []
    },
    {
      "cell_type": "code",
      "source": [
        "#@title MKVMerver Video Info\n",
        "\n",
        "import os\n",
        "\n",
        "video_file_path = \"/content/drive/MyDrive/filename.mkv\" #@param {type:\"string\"}\n",
        "\n",
        "os.environ['inputFile'] = video_file_path\n",
        "\n",
        "!mkvmerge -J \"\"$inputFile\"\""
      ],
      "metadata": {
        "cellView": "form",
        "id": "d2i61Otbgexx"
      },
      "execution_count": null,
      "outputs": []
    },
    {
      "cell_type": "code",
      "source": [
        "#@title Delete Attachment MKVmerge\n",
        "\n",
        "import os\n",
        "\n",
        "video_file_path = \"/content/drive/MyDrive/filename.mkv\" #@param {type:\"string\"}\n",
        "\n",
        "os.environ['inputFile'] = video_file_path\n",
        "\n",
        "!mkvpropedit \"\"$inputFile\"\" --delete-attachment 1"
      ],
      "metadata": {
        "cellView": "form",
        "id": "rZWJ1SgHyRZY"
      },
      "execution_count": null,
      "outputs": []
    },
    {
      "cell_type": "code",
      "source": [
        "#@title Merge Subtitle MKV (Create subbed Dir First on MyDrive)\n",
        "\n",
        "import os\n",
        "\n",
        "video_file_path = \"/content/drive/MyDrive/filename.mkv\" #@param {type:\"string\"}\n",
        "subs_file_path = \"/content/sub.srt\" #@param {type:\"string\"}\n",
        "output_name_video = \"AmnClldOtto-WEBDL\" #@param {type:\"string\"}\n",
        "watermark_file = \"INFOKAN21.FUN\" #@param {type:\"string\"}\n",
        "reso = \"720\" #@param [\"360\", \"480\", \"720\", \"1080\"]\n",
        "\n",
        "os.environ['inputFile'] = video_file_path\n",
        "os.environ['inputSubsFile'] = subs_file_path\n",
        "os.environ['outputPath'] = \"/content/drive/MyDrive/subbed/\"\n",
        "os.environ['fileName'] = output_name_video\n",
        "os.environ['WM'] = watermark_file\n",
        "os.environ['reso'] = reso\n",
        "\n",
        "!mkvmerge -o \"$outputPath\"/\"$fileName\"-\"$WM\"-\"$reso\"-subtitleIndonesia.mkv --title \"\"$fileName\"-\"$WM\"\" --track-name 0:\"\"$fileName\"-\"$WM\"\" --track-name 1:\"\"$fileName\"-\"$WM\"\" -S \"$inputFile\" --language 0:ind --forced-track 0:yes --default-track 0:yes --sub-charset 0:utf-8 \"$inputSubsFile\"\n",
        "\n"
      ],
      "metadata": {
        "cellView": "form",
        "id": "J9YNkevD4yd-"
      },
      "execution_count": null,
      "outputs": []
    }
  ]
}