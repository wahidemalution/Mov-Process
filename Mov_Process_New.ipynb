{
  "nbformat": 4,
  "nbformat_minor": 0,
  "metadata": {
    "colab": {
      "provenance": [],
      "include_colab_link": true
    },
    "kernelspec": {
      "name": "python3",
      "display_name": "Python 3"
    },
    "language_info": {
      "name": "python"
    }
  },
  "cells": [
    {
      "cell_type": "markdown",
      "metadata": {
        "id": "view-in-github",
        "colab_type": "text"
      },
      "source": [
        "<a href=\"https://colab.research.google.com/github/wahidemalution/Mov-Process/blob/main/Mov_Process_New.ipynb\" target=\"_parent\"><img src=\"https://colab.research.google.com/assets/colab-badge.svg\" alt=\"Open In Colab\"/></a>"
      ]
    },
    {
      "cell_type": "code",
      "execution_count": null,
      "metadata": {
        "cellView": "form",
        "id": "c_Ux_aOBly7M"
      },
      "outputs": [],
      "source": [
        "#@title Install Required App\n",
        "!sudo apt-get -y update > /dev/null 2>&1\n",
        "\n",
        "!curl https://sdk.cloud.google.com | bash\n",
        "\n",
        "!curl https://rclone.org/install.sh | sudo bash &> /dev/null\n",
        "print(\"Rclone Installed\")\n",
        "\n",
        "!rm /usr/local/bin/mkvpropedit > /dev/null 2>&1\n",
        "!rm /usr/local/bin/mkvmerge > /dev/null 2>&1\n",
        "!rm /usr/local/bin/mkvextract > /dev/null 2>&1\n",
        "!rm /usr/local/bin/mkvinfo > /dev/null 2>&1\n",
        "\n",
        "!sudo curl -L https://mkvtoolnix.download/appimage/MKVToolNix_GUI-74.0.0-x86_64.AppImage -o /usr/local/bin/MKVToolNix_GUI.AppImage > /dev/null 2>&1\n",
        "!sudo chmod u+rx /usr/local/bin/MKVToolNix_GUI.AppImage\n",
        "!sudo ln -s /usr/local/bin/MKVToolNix_GUI.AppImage /usr/local/bin/mkvpropedit\n",
        "!sudo chmod a+rx /usr/local/bin/mkvpropedit\n",
        "!sudo ln -s /usr/local/bin/MKVToolNix_GUI.AppImage /usr/local/bin/mkvmerge\n",
        "!sudo chmod a+rx /usr/local/bin/mkvmerge\n",
        "!sudo ln -s /usr/local/bin/MKVToolNix_GUI.AppImage /usr/local/bin/mkvextract\n",
        "!sudo chmod a+rx /usr/local/bin/mkvextract\n",
        "!sudo ln -s /usr/local/bin/MKVToolNix_GUI.AppImage /usr/local/bin/mkvinfo\n",
        "!sudo chmod a+rx /usr/local/bin/mkvinfo\n",
        "print(\"MKVTOOLNIX Installed\")\n",
        "\n",
        "\n",
        "!sudo apt-get install jq > /dev/null 2>&1\n",
        "print(\"jq installed\")\n",
        "\n",
        "\n",
        "!sudo apt-get -y install libmms0 libc-ares2 libc6 libcrypto++6 libgcc1 libmediainfo0v5 libpcre3 libpcrecpp0v5 libssl1.1 libstdc++6 libzen0v5 zlib1g apt-transport-https > /dev/null 2>&1\n",
        "!sudo curl -sL -o /var/cache/apt/archives/MEGAcmd.deb https://mega.nz/linux/MEGAsync/Debian_9.0/amd64/megacmd-Debian_9.0_amd64.deb > /dev/null 2>&1\n",
        "!sudo dpkg -i /var/cache/apt/archives/MEGAcmd.deb > /dev/null 2>&1\n",
        "print(\"Mega Installed\")"
      ]
    },
    {
      "cell_type": "code",
      "source": [
        "#@title Login MEGA\n",
        "USERNAME = \"email\"  # @param {type:\"string\"}\n",
        "PASSWORD = \"MEGA PASS\"  # @param {type:\"string\"} \n",
        "!timeout 3 mega-login {USERNAME} {PASSWORD}\n",
        "!mega-whoami\n"
      ],
      "metadata": {
        "id": "BWiXBkfNmDpM",
        "cellView": "form"
      },
      "execution_count": null,
      "outputs": []
    },
    {
      "cell_type": "code",
      "source": [
        "#@title MEGA LogOut\n",
        "!mega-logout [--keep-session]"
      ],
      "metadata": {
        "cellView": "form",
        "id": "7e4JqJLYof5N"
      },
      "execution_count": null,
      "outputs": []
    },
    {
      "cell_type": "code",
      "source": [
        "#@title Auth Google Cloud\n",
        "from google.colab import auth\n",
        "auth.authenticate_user()"
      ],
      "metadata": {
        "cellView": "form",
        "id": "NbwdIKXK4mn6"
      },
      "execution_count": null,
      "outputs": []
    },
    {
      "cell_type": "code",
      "source": [
        "#@title Init Google Cloud\n",
        "!gcloud init"
      ],
      "metadata": {
        "cellView": "form",
        "id": "D6vhDX0O48Lb"
      },
      "execution_count": null,
      "outputs": []
    },
    {
      "cell_type": "code",
      "source": [
        "#@title Mount Google Drive\n",
        "from google.colab import drive\n",
        "drive.mount('/content/drive')"
      ],
      "metadata": {
        "cellView": "form",
        "id": "-g5bgC0MyGeu"
      },
      "execution_count": null,
      "outputs": []
    },
    {
      "cell_type": "markdown",
      "source": [
        "```bash\n",
        "rclone authorize \"onedrive\"\n",
        "```"
      ],
      "metadata": {
        "id": "mgK3vo8FyRhX"
      }
    },
    {
      "cell_type": "code",
      "source": [
        "#@title Rclone Config\n",
        "!rclone config"
      ],
      "metadata": {
        "cellView": "form",
        "id": "Z3gcweheyIq1"
      },
      "execution_count": null,
      "outputs": []
    },
    {
      "cell_type": "code",
      "source": [
        "#@title Mount OneDrive to /content/onedrive/ directory\n",
        "\n",
        "import os, sys, re\n",
        "rclone_config_name = \"odrive\" #@param {type:\"string\"}\n",
        "\n",
        "os.environ['rcloneconfigname'] = rclone_config_name\n",
        "\n",
        "!sudo mkdir /content/onedrive\n",
        "!nohup rclone --vfs-cache-mode full mount \"$rcloneconfigname\": /content/onedrive &"
      ],
      "metadata": {
        "cellView": "form",
        "id": "Anp6naqcNqBd"
      },
      "execution_count": null,
      "outputs": []
    },
    {
      "cell_type": "code",
      "source": [
        "#@title Anonfiles Upload\n",
        "\n",
        "import os\n",
        "\n",
        "source_file = \"/content/drive/MyDrive/DriveFire/Magic.Mikes.Last.Dance.2023.720p.WEB-DL.x264-[Mkvking.com].mkv\" #@param {type:\"string\"}\n",
        "source_file1 = \"\" #@param {type:\"string\"}\n",
        "\n",
        "\n",
        "os.environ['sourceFile'] = source_file\n",
        "os.environ['sourceFile1'] = source_file1\n",
        "\n",
        "\n",
        "!curl -# https://api.bayfiles.com/upload -F \"file=@\"$sourceFile\"\" | jq\n",
        "!curl -# https://api.anonfiles.com/upload -F \"file=@\"$sourceFile1\"\" | jq"
      ],
      "metadata": {
        "cellView": "form",
        "id": "VVzoL6oUzvj3"
      },
      "execution_count": null,
      "outputs": []
    },
    {
      "cell_type": "code",
      "source": [
        "#@title MKVMerver Video Info\n",
        "\n",
        "import os\n",
        "\n",
        "video_file_path = \"/content/drive/MyDrive/subbed/OprtionFrtneRseDeGerre2023-WEBDL-DLFILMHD.COM-1080-subtitleIndonesia.mkv\" #@param {type:\"string\"}\n",
        "\n",
        "os.environ['inputFile'] = video_file_path\n",
        "\n",
        "!mkvmerge -i \"\"$inputFile\"\""
      ],
      "metadata": {
        "cellView": "form",
        "id": "nbW-GHO6yewU"
      },
      "execution_count": null,
      "outputs": []
    },
    {
      "cell_type": "code",
      "source": [
        "#@title Delete Attachment MKVmerge\n",
        "\n",
        "import os\n",
        "\n",
        "video_file_path = \"/content/drive/MyDrive/DriveFire/Magic.Mikes.Last.Dance.2023.1080p.WEB-DL.x264-[Mkvking.com].mkv\" #@param {type:\"string\"}\n",
        "video_file_path1 = \"/content/drive/MyDrive/DriveFire/Magic.Mikes.Last.Dance.2023.720p.WEB-DL.x264-[Mkvking.com].mkv\" #@param {type:\"string\"}\n",
        "\n",
        "\n",
        "os.environ['inputFile'] = video_file_path\n",
        "os.environ['inputFile1'] = video_file_path1\n",
        "\n",
        "!mkvpropedit \"\"$inputFile\"\" --delete-attachment 1\n",
        "!mkvpropedit \"\"$inputFile1\"\" --delete-attachment 1"
      ],
      "metadata": {
        "cellView": "form",
        "id": "2JpM7ZWByhjE"
      },
      "execution_count": null,
      "outputs": []
    },
    {
      "cell_type": "code",
      "source": [
        "#@title Merge Subtitle MKV (Create subbed Dir First on MyDrive)\n",
        "\n",
        "import os\n",
        "\n",
        "video_file_path = \"/content/drive/MyDrive/DriveFire/Magic.Mikes.Last.Dance.2023.1080p.WEB-DL.x264-[Mkvking.com].mkv\" #@param {type:\"string\"}\n",
        "video_file_path1 = \"/content/drive/MyDrive/DriveFire/Magic.Mikes.Last.Dance.2023.720p.WEB-DL.x264-[Mkvking.com].mkv\" #@param {type:\"string\"}\n",
        "subs_file_path = \"/content/subscene-magic-mikes-last-dance-indonesian-3028977.srt\" #@param {type:\"string\"}\n",
        "output_name_video = \"MgcMikesLstDnce2023-WEBDL\" #@param {type:\"string\"}\n",
        "watermark_file = \"DLFILMHD.COM\" #@param {type:\"string\"}\n",
        "reso = \"1080\" #@param [\"360\", \"480\", \"720\", \"1080\"]\n",
        "reso1 = \"720\" #@param [\"360\", \"480\", \"720\", \"1080\"]\n",
        "\n",
        "os.environ['inputFile'] = video_file_path\n",
        "os.environ['inputFile1'] = video_file_path1\n",
        "os.environ['inputSubsFile'] = subs_file_path\n",
        "os.environ['outputPath'] = \"/content/drive/MyDrive/subbed/\"\n",
        "os.environ['fileName'] = output_name_video\n",
        "os.environ['WM'] = watermark_file\n",
        "os.environ['reso'] = reso\n",
        "os.environ['reso1'] = reso1\n",
        "\n",
        "!mkvmerge -o \"$outputPath\"/\"$fileName\"-\"$WM\"-\"$reso\"-subtitleIndonesia.mkv --title \"\"$fileName\"-\"$WM\"\" --track-name 0:\"\"$fileName\"-\"$WM\"\" --track-name 1:\"\"$fileName\"-\"$WM\"\" -S \"$inputFile\" --language 0:ind --forced-track 0:yes --default-track 0:yes --sub-charset 0:utf-8 \"$inputSubsFile\"\n",
        "!mkvmerge -o \"$outputPath\"/\"$fileName\"-\"$WM\"-\"$reso1\"-subtitleIndonesia.mkv --title \"\"$fileName\"-\"$WM\"\" --track-name 0:\"\"$fileName\"-\"$WM\"\" --track-name 1:\"\"$fileName\"-\"$WM\"\" -S \"$inputFile1\" --language 0:ind --forced-track 0:yes --default-track 0:yes --sub-charset 0:utf-8 \"$inputSubsFile\"\n",
        "\n"
      ],
      "metadata": {
        "cellView": "form",
        "id": "GJ1-wIa_yj07"
      },
      "execution_count": null,
      "outputs": []
    },
    {
      "cell_type": "code",
      "source": [
        "#@title Upload to Mega\n",
        "import os\n",
        "\n",
        "source_file = \"/content/drive/MyDrive/subbed/MgcMikesLstDnce2023-WEBDL-DLFILMHD.COM-1080-subtitleIndonesia.mkv\" #@param {type:\"string\"}\n",
        "source_file1 = \"/content/drive/MyDrive/subbed/MgcMikesLstDnce2023-WEBDL-DLFILMHD.COM-720-subtitleIndonesia.mkv\" #@param {type:\"string\"}\n",
        "\n",
        "\n",
        "os.environ['sourceFile'] = source_file\n",
        "os.environ['sourceFile1'] = source_file1\n",
        "\n",
        "\n",
        "!mega-put \"$sourceFile\"\n",
        "!mega-put \"$sourceFile1\""
      ],
      "metadata": {
        "cellView": "form",
        "id": "REZS2eYazG1T"
      },
      "execution_count": null,
      "outputs": []
    },
    {
      "cell_type": "code",
      "source": [
        "#@title Upload to FileDitch\n",
        "import os\n",
        "\n",
        "source_file = \"/content/drive/MyDrive/subbed/MgcMikesLstDnce2023-WEBDL-DLFILMHD.COM-1080-subtitleIndonesia.mkv\" #@param {type:\"string\"}\n",
        "source_file1 = \"/content/drive/MyDrive/subbed/MgcMikesLstDnce2023-WEBDL-DLFILMHD.COM-1080-subtitleIndonesia.mkv\" #@param {type:\"string\"}\n",
        "\n",
        "\n",
        "os.environ['sourceFile'] = source_file\n",
        "os.environ['sourceFile1'] = source_file1\n",
        "\n",
        "\n",
        "!curl -# -i -F files[]=@\"$sourceFile\" -F files[]=@\"$sourceFile1\" https://up1.fileditch.com/upload.php\n"
      ],
      "metadata": {
        "cellView": "form",
        "id": "zXiX4oGo_6Bf"
      },
      "execution_count": null,
      "outputs": []
    },
    {
      "cell_type": "code",
      "source": [
        "#@title Backup to Google Cloud\n",
        "import os\n",
        "\n",
        "source_file = \"/content/drive/MyDrive/subbed/MgcMikesLstDnce2023-WEBDL-DLFILMHD.COM-1080-subtitleIndonesia.mkv\" #@param {type:\"string\"}\n",
        "source_file1 = \"/content/drive/MyDrive/subbed/MgcMikesLstDnce2023-WEBDL-DLFILMHD.COM-720-subtitleIndonesia.mkv\" #@param {type:\"string\"}\n",
        "bucket = \"bucket\" #@param {type:\"string\"}\n",
        "\n",
        "\n",
        "os.environ['sourceFile'] = source_file\n",
        "os.environ['sourceFile1'] = source_file1\n",
        "os.environ['Bucket'] = bucket\n",
        "\n",
        "!gcloud alpha storage cp \"$sourceFile\" \"$sourceFile1\" gs://\"$Bucket\""
      ],
      "metadata": {
        "cellView": "form",
        "id": "2vV4A-tZFoRz"
      },
      "execution_count": null,
      "outputs": []
    },
    {
      "cell_type": "code",
      "source": [
        "#@title Generate URL Upload and Token Krakenfiles\n",
        "\n",
        "!curl -# https://krakenfiles.com/api/server/available -H \"Accept: application/json\" | jq"
      ],
      "metadata": {
        "cellView": "form",
        "id": "5IoSM7zwz5RN"
      },
      "execution_count": null,
      "outputs": []
    },
    {
      "cell_type": "code",
      "source": [
        "#@title KrakenFiles Upload\n",
        "\n",
        "import os\n",
        "\n",
        "url_server = \"URL Upload Server\" #@param {type:\"string\"}\n",
        "upload_server_token = \"Upload Token\" #@param {type:\"string\"}\n",
        "auth_token = \"Api Key Account from https://krakenfiles.com/profile/api-access\" #@param {type:\"string\"}\n",
        "source_file = \"/content/drive/MyDrive/file.mkv\" #@param {type:\"string\"}\n",
        "\n",
        "os.environ['URLServer'] = url_server\n",
        "os.environ['authToken'] = auth_token\n",
        "os.environ['UPservToken'] = upload_server_token\n",
        "os.environ['sourceFile'] = source_file\n",
        "\n",
        "\n",
        "\n",
        "!curl -# X POST \"$URLServer\" -H \"X-AUTH-TOKEN: \"$authToken\"\" -F \"serverAccessToken=\"$UPservToken\"\" -F \"file=@\"$sourceFile\"\" | jq"
      ],
      "metadata": {
        "cellView": "form",
        "id": "QS0hVKO_z8vC"
      },
      "execution_count": null,
      "outputs": []
    },
    {
      "cell_type": "code",
      "source": [
        "#@title Copy File\n",
        "\n",
        "import os\n",
        "\n",
        "source_file = \"/content/drive/MyDrive/subbed/MgcMikesLstDnce2023-WEBDL-DLFILMHD.COM-1080-subtitleIndonesia.mkv\" #@param {type:\"string\"}\n",
        "source_file1 = \"/content/drive/MyDrive/subbed/MgcMikesLstDnce2023-WEBDL-DLFILMHD.COM-720-subtitleIndonesia.mkv\" #@param {type:\"string\"}\n",
        "output_folder = \"/content/onedrive/DLFilmHD/M\" #@param {type:\"string\"}\n",
        "\n",
        "os.environ['sourceFile'] = source_file\n",
        "os.environ['sourceFile1'] = source_file1\n",
        "os.environ['outputPath'] = output_folder\n",
        "\n",
        "!cp \"$sourceFile\" \"$sourceFile1\" \"$outputPath\""
      ],
      "metadata": {
        "cellView": "form",
        "id": "gfEyanUIzCsN"
      },
      "execution_count": null,
      "outputs": []
    },
    {
      "cell_type": "code",
      "source": [
        "function ConnectButton(){\n",
        "    console.log(\"Connect pushed\"); \n",
        "    document.querySelector(\"#top-toolbar > colab-connect-button\").shadowRoot.querySelector(\"#connect\").click() \n",
        "}\n",
        "setInterval(ConnectButton,60000);"
      ],
      "metadata": {
        "id": "ux3KWqA_0ClI"
      },
      "execution_count": null,
      "outputs": []
    }
  ]
}